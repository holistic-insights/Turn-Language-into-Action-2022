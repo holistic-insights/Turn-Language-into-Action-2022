{
 "cells": [
  {
   "cell_type": "markdown",
   "metadata": {},
   "source": [
    "# Setup"
   ]
  },
  {
   "cell_type": "code",
   "execution_count": 25,
   "metadata": {},
   "outputs": [],
   "source": [
    "import pandas as pd\n",
    "import seaborn as sns\n",
    "import numpy as np\n",
    "from matplotlib import pyplot\n",
    "import plotly.express as px"
   ]
  },
  {
   "cell_type": "code",
   "execution_count": 3,
   "metadata": {},
   "outputs": [
    {
     "name": "stdout",
     "output_type": "stream",
     "text": [
      "5.10.0\n"
     ]
    }
   ],
   "source": [
    "import plotly\n",
    "print(plotly.__version__)"
   ]
  },
  {
   "cell_type": "code",
   "execution_count": 108,
   "metadata": {},
   "outputs": [],
   "source": [
    "categories = ['Environment', 'Social', 'Governance']\n",
    "\n",
    "subcategories_env_pos = ['Climate Impact', 'Biodiversity and Environmental Footprint', 'Waste and Emission Management', 'Environmental Opportunities ','Waste and Emissions Management ']\n",
    "subcategories_env_neg = ['Greenwashing','Environmental Crime', 'Biodiversity and Environmental Footprint','Climate Impact','Waste and Emission Management','Waste and Emissions Management ']\n",
    "subcategories_env = subcategories_env_pos + subcategories_env_neg\n",
    "subcategories_env = list(dict.fromkeys(subcategories_env))\n",
    "\n",
    "subcategories_soc_pos = ['Human Capital ','Workplace and Product Safety','Cybersecurity','Diversity and Inclusion','Public Relations','Community Opportunities']\n",
    "subcategories_soc_neg = ['Human Capital ','Workplace and Product Safety','Cybersecurity','Discrimination','Controversial Profile']\n",
    "subcategories_soc = subcategories_soc_pos + subcategories_soc_neg\n",
    "subcategories_soc = list(dict.fromkeys(subcategories_soc))\n",
    "\n",
    "subcategories_gov_pos_neg = ['Business Ethics and Transparency','Board Engagement','Legal Compliance','Product Stewardship']\n",
    "\n",
    "subcategories = ['Climate Impact', 'Biodiversity and Environmental Footprint', 'Waste and Emission Management', 'Human Capital ', 'Environmental Opportunities ', 'Waste and Emissions Management ', 'Diversity and Inclusion', 'Workplace and Product Safety', 'Environmental Crime', 'Legal Compliance', 'Business Ethics and Transparency', 'Product Stewardship']"
   ]
  },
  {
   "cell_type": "markdown",
   "metadata": {},
   "source": [
    "# Get data"
   ]
  },
  {
   "cell_type": "code",
   "execution_count": 24,
   "metadata": {},
   "outputs": [
    {
     "name": "stdout",
     "output_type": "stream",
     "text": [
      "172\n"
     ]
    },
    {
     "data": {
      "text/html": [
       "<div>\n",
       "<style scoped>\n",
       "    .dataframe tbody tr th:only-of-type {\n",
       "        vertical-align: middle;\n",
       "    }\n",
       "\n",
       "    .dataframe tbody tr th {\n",
       "        vertical-align: top;\n",
       "    }\n",
       "\n",
       "    .dataframe thead th {\n",
       "        text-align: right;\n",
       "    }\n",
       "</style>\n",
       "<table border=\"1\" class=\"dataframe\">\n",
       "  <thead>\n",
       "    <tr style=\"text-align: right;\">\n",
       "      <th></th>\n",
       "      <th>Unnamed: 0</th>\n",
       "      <th>urn</th>\n",
       "      <th>ts</th>\n",
       "      <th>company</th>\n",
       "      <th>numLikes</th>\n",
       "      <th>numComments</th>\n",
       "      <th>text</th>\n",
       "      <th>Environment</th>\n",
       "      <th>Positive</th>\n",
       "      <th>Climate Impact</th>\n",
       "      <th>...</th>\n",
       "      <th>Human Capital</th>\n",
       "      <th>Environmental Opportunities</th>\n",
       "      <th>Waste and Emission Management</th>\n",
       "      <th>Diversity and Inclusion</th>\n",
       "      <th>Workplace and Product Safety</th>\n",
       "      <th>Environmental Crime</th>\n",
       "      <th>Governance</th>\n",
       "      <th>Legal Compliance</th>\n",
       "      <th>Business Ethics and Transparency</th>\n",
       "      <th>Product Stewardship</th>\n",
       "    </tr>\n",
       "  </thead>\n",
       "  <tbody>\n",
       "    <tr>\n",
       "      <th>0</th>\n",
       "      <td>16</td>\n",
       "      <td>6984440000000000000</td>\n",
       "      <td>08/10/2022 09:01</td>\n",
       "      <td>boeing</td>\n",
       "      <td>280</td>\n",
       "      <td>6</td>\n",
       "      <td>Global cooperation is a beautiful thing 🌎.\\r\\n...</td>\n",
       "      <td>120.0</td>\n",
       "      <td>120.0</td>\n",
       "      <td>120.0</td>\n",
       "      <td>...</td>\n",
       "      <td>NaN</td>\n",
       "      <td>NaN</td>\n",
       "      <td>NaN</td>\n",
       "      <td>NaN</td>\n",
       "      <td>NaN</td>\n",
       "      <td>NaN</td>\n",
       "      <td>NaN</td>\n",
       "      <td>NaN</td>\n",
       "      <td>NaN</td>\n",
       "      <td>NaN</td>\n",
       "    </tr>\n",
       "    <tr>\n",
       "      <th>1</th>\n",
       "      <td>30</td>\n",
       "      <td>6982130000000000000</td>\n",
       "      <td>02/10/2022 00:00</td>\n",
       "      <td>boeing</td>\n",
       "      <td>498</td>\n",
       "      <td>5</td>\n",
       "      <td>October marks #EnergyAwarenessMonth across the...</td>\n",
       "      <td>10.0</td>\n",
       "      <td>10.0</td>\n",
       "      <td>NaN</td>\n",
       "      <td>...</td>\n",
       "      <td>NaN</td>\n",
       "      <td>NaN</td>\n",
       "      <td>NaN</td>\n",
       "      <td>NaN</td>\n",
       "      <td>NaN</td>\n",
       "      <td>NaN</td>\n",
       "      <td>NaN</td>\n",
       "      <td>NaN</td>\n",
       "      <td>NaN</td>\n",
       "      <td>NaN</td>\n",
       "    </tr>\n",
       "    <tr>\n",
       "      <th>2</th>\n",
       "      <td>51</td>\n",
       "      <td>6978020000000000000</td>\n",
       "      <td>20/09/2022 16:04</td>\n",
       "      <td>boeing</td>\n",
       "      <td>4938</td>\n",
       "      <td>77</td>\n",
       "      <td>We predict a windy forecast at #ASC22. 💨\\r\\n\\r...</td>\n",
       "      <td>30.0</td>\n",
       "      <td>NaN</td>\n",
       "      <td>NaN</td>\n",
       "      <td>...</td>\n",
       "      <td>NaN</td>\n",
       "      <td>NaN</td>\n",
       "      <td>NaN</td>\n",
       "      <td>NaN</td>\n",
       "      <td>NaN</td>\n",
       "      <td>NaN</td>\n",
       "      <td>NaN</td>\n",
       "      <td>NaN</td>\n",
       "      <td>NaN</td>\n",
       "      <td>NaN</td>\n",
       "    </tr>\n",
       "    <tr>\n",
       "      <th>3</th>\n",
       "      <td>61</td>\n",
       "      <td>6973260000000000000</td>\n",
       "      <td>07/09/2022 12:59</td>\n",
       "      <td>boeing</td>\n",
       "      <td>5121</td>\n",
       "      <td>61</td>\n",
       "      <td>Today marks the 25th anniversary of the F-22 R...</td>\n",
       "      <td>15.0</td>\n",
       "      <td>NaN</td>\n",
       "      <td>NaN</td>\n",
       "      <td>...</td>\n",
       "      <td>NaN</td>\n",
       "      <td>NaN</td>\n",
       "      <td>NaN</td>\n",
       "      <td>NaN</td>\n",
       "      <td>NaN</td>\n",
       "      <td>NaN</td>\n",
       "      <td>NaN</td>\n",
       "      <td>NaN</td>\n",
       "      <td>NaN</td>\n",
       "      <td>NaN</td>\n",
       "    </tr>\n",
       "    <tr>\n",
       "      <th>4</th>\n",
       "      <td>73</td>\n",
       "      <td>6969440000000000000</td>\n",
       "      <td>27/08/2022 23:49</td>\n",
       "      <td>boeing</td>\n",
       "      <td>346</td>\n",
       "      <td>5</td>\n",
       "      <td>#TeamBoeing engineer Kristine Ramos spoke to t...</td>\n",
       "      <td>5.0</td>\n",
       "      <td>5.0</td>\n",
       "      <td>NaN</td>\n",
       "      <td>...</td>\n",
       "      <td>NaN</td>\n",
       "      <td>NaN</td>\n",
       "      <td>NaN</td>\n",
       "      <td>NaN</td>\n",
       "      <td>NaN</td>\n",
       "      <td>NaN</td>\n",
       "      <td>NaN</td>\n",
       "      <td>NaN</td>\n",
       "      <td>NaN</td>\n",
       "      <td>NaN</td>\n",
       "    </tr>\n",
       "  </tbody>\n",
       "</table>\n",
       "<p>5 rows × 24 columns</p>\n",
       "</div>"
      ],
      "text/plain": [
       "   Unnamed: 0                  urn                ts company  numLikes  \\\n",
       "0          16  6984440000000000000  08/10/2022 09:01  boeing       280   \n",
       "1          30  6982130000000000000  02/10/2022 00:00  boeing       498   \n",
       "2          51  6978020000000000000  20/09/2022 16:04  boeing      4938   \n",
       "3          61  6973260000000000000  07/09/2022 12:59  boeing      5121   \n",
       "4          73  6969440000000000000  27/08/2022 23:49  boeing       346   \n",
       "\n",
       "   numComments                                               text  \\\n",
       "0            6  Global cooperation is a beautiful thing 🌎.\\r\\n...   \n",
       "1            5  October marks #EnergyAwarenessMonth across the...   \n",
       "2           77  We predict a windy forecast at #ASC22. 💨\\r\\n\\r...   \n",
       "3           61  Today marks the 25th anniversary of the F-22 R...   \n",
       "4            5  #TeamBoeing engineer Kristine Ramos spoke to t...   \n",
       "\n",
       "   Environment  Positive  Climate Impact  ...  Human Capital   \\\n",
       "0        120.0     120.0           120.0  ...             NaN   \n",
       "1         10.0      10.0             NaN  ...             NaN   \n",
       "2         30.0       NaN             NaN  ...             NaN   \n",
       "3         15.0       NaN             NaN  ...             NaN   \n",
       "4          5.0       5.0             NaN  ...             NaN   \n",
       "\n",
       "   Environmental Opportunities   Waste and Emission Management  \\\n",
       "0                           NaN                            NaN   \n",
       "1                           NaN                            NaN   \n",
       "2                           NaN                            NaN   \n",
       "3                           NaN                            NaN   \n",
       "4                           NaN                            NaN   \n",
       "\n",
       "   Diversity and Inclusion  Workplace and Product Safety  Environmental Crime  \\\n",
       "0                      NaN                           NaN                  NaN   \n",
       "1                      NaN                           NaN                  NaN   \n",
       "2                      NaN                           NaN                  NaN   \n",
       "3                      NaN                           NaN                  NaN   \n",
       "4                      NaN                           NaN                  NaN   \n",
       "\n",
       "   Governance  Legal Compliance  Business Ethics and Transparency  \\\n",
       "0         NaN               NaN                               NaN   \n",
       "1         NaN               NaN                               NaN   \n",
       "2         NaN               NaN                               NaN   \n",
       "3         NaN               NaN                               NaN   \n",
       "4         NaN               NaN                               NaN   \n",
       "\n",
       "   Product Stewardship  \n",
       "0                  NaN  \n",
       "1                  NaN  \n",
       "2                  NaN  \n",
       "3                  NaN  \n",
       "4                  NaN  \n",
       "\n",
       "[5 rows x 24 columns]"
      ]
     },
     "execution_count": 24,
     "metadata": {},
     "output_type": "execute_result"
    }
   ],
   "source": [
    "all_data = pd.read_csv('../Data/posts_esg_final.csv')\n",
    "print(len(all_data))\n",
    "all_data['urn'] = all_data['urn'].astype('int64') \n",
    "\n",
    "all_data.head()"
   ]
  },
  {
   "cell_type": "code",
   "execution_count": 106,
   "metadata": {},
   "outputs": [
    {
     "data": {
      "text/plain": [
       "Index(['Unnamed: 0', 'urn', 'ts', 'company', 'numLikes', 'numComments', 'text',\n",
       "       'Environment', 'Positive', 'Climate Impact',\n",
       "       'Biodiversity and Environmental Footprint', 'Negative',\n",
       "       'Waste and Emissions Management ', 'Social', 'Human Capital ',\n",
       "       'Environmental Opportunities ', 'Waste and Emission Management',\n",
       "       'Diversity and Inclusion', 'Workplace and Product Safety',\n",
       "       'Environmental Crime', 'Governance', 'Legal Compliance',\n",
       "       'Business Ethics and Transparency', 'Product Stewardship'],\n",
       "      dtype='object')"
      ]
     },
     "execution_count": 106,
     "metadata": {},
     "output_type": "execute_result"
    }
   ],
   "source": [
    "all_data.columns"
   ]
  },
  {
   "cell_type": "code",
   "execution_count": 6,
   "metadata": {},
   "outputs": [
    {
     "data": {
      "text/plain": [
       "array(['boeing', 'jpmorgan', 'merck', 'albertsons', 'jcpenney', 'metlife',\n",
       "       'pepsico', 'wellsfargo', 'oracle', 'xerox', 'exelon', 'gap',\n",
       "       'antheminc', 'textron', 'unionpacific', 'staples', 'humana',\n",
       "       'aramark', 'avaya', 'saicinc', 'nordstrom', 'jabil', 'amgen',\n",
       "       'amd', 'steelcase', 'kiewit', 'petsmart', 'unilever', 'ecolab',\n",
       "       'tellabs', 'cunamutualgroup', 'flowserve', 'kennametal',\n",
       "       'novglobal', 'bankofhawaii', 'earthlink'], dtype=object)"
      ]
     },
     "execution_count": 6,
     "metadata": {},
     "output_type": "execute_result"
    }
   ],
   "source": [
    "all_data['company'].unique()"
   ]
  },
  {
   "cell_type": "markdown",
   "metadata": {},
   "source": [
    "# Overall post analysis"
   ]
  },
  {
   "cell_type": "code",
   "execution_count": 7,
   "metadata": {},
   "outputs": [],
   "source": [
    "option = 'unilever'"
   ]
  },
  {
   "cell_type": "code",
   "execution_count": 257,
   "metadata": {},
   "outputs": [],
   "source": [
    "data = all_data.loc[all_data['company'] == option].copy()\n",
    "data = data.reset_index()\n",
    "\n",
    "num_esg_pos = data['Positive'].value_counts(dropna=True).sum()\n",
    "num_esg_neg = data['Negative'].value_counts(dropna=True).sum()\n",
    "\n",
    "cat_counts = dict()\n",
    "cat_scores = dict()\n",
    "\n",
    "data['Environmental subcategories'] = 0 \n",
    "data['Social subcategories'] = 0 \n",
    "data['Governance subcategories'] = 0 \n",
    "\n",
    "\n",
    "score_env=0\n",
    "score_soc=0\n",
    "score_gov=0\n",
    "\n",
    "for index, col in enumerate(data):\n",
    "    if index < (len(data)-1):\n",
    "        if pd.isna(data.at[index, col]):\n",
    "            continue \n",
    "        else:\n",
    "            if col in subcategories_env:\n",
    "                score_env += data.at[index, col] \n",
    "            elif col in subcategories_soc:\n",
    "                score_soc += data.at[index, col]\n",
    "            elif col in subcategories_gov_pos_neg:\n",
    "                score_gov += data.at[index, col]\n",
    "            \n",
    "            data.at[index, 'Environmental subcategories'] = score_env\n",
    "            data.at[index, 'Social subcategories'] = score_soc\n",
    "            data.at[index,'Governance subcategories'] = score_gov\n",
    "    else: \n",
    "        break\n",
    "\n",
    "for col in categories:\n",
    "    cat_counts[col] = data[col].value_counts(dropna=True).sum()\n",
    "    score = data[col].dropna().mean()\n",
    "    if pd.isna(score):\n",
    "        score = 0\n",
    "    cat_scores[col] = score\n",
    "\n",
    "cat_counts_df = pd.DataFrame({'Category': list(cat_counts.keys()), 'Counts': list(cat_counts.values())})\n",
    "cat_scores_df = pd.DataFrame({'Category': list(cat_scores.keys()), 'Scores Sum': list(cat_scores.values())})\n",
    "\n",
    "cat_scores_df = pd.DataFrame({'Category': list(cat_scores.keys()), 'Scores Sum': list(cat_scores.values())})\n",
    "cat_scores_df = pd.DataFrame({'Category': list(cat_scores.keys()), 'Scores Sum': list(cat_scores.values())})\n",
    "\n",
    "\n",
    "subcat_counts = dict()\n",
    "subcat_scores = dict()\n",
    "subcat_cat = []\n",
    "\n",
    "for col in subcategories:\n",
    "    subcat_counts[col] = data[col].value_counts(dropna=True).sum()\n",
    "    score = data[col].dropna().mean()\n",
    "    if pd.isna(score):\n",
    "        score = 0\n",
    "    subcat_scores[col] = score\n",
    "\n",
    "for col in subcat_counts:\n",
    "    if col in subcategories_env:\n",
    "        subcat_cat.append('Environmental')\n",
    "    elif col in subcategories_soc:\n",
    "        subcat_cat.append('Social')\n",
    "    elif col in subcategories_gov_pos_neg:\n",
    "        subcat_cat.append('Governance')  \n",
    "        \n",
    "cat_individual_scores = dict()\n",
    "\n",
    "# data['Environmental category']= data[subcategories_env].sum(axis=1)\n",
    "# data['Social category']= data[subcategories_soc].sum(axis=1)\n",
    "# data['Governance category']= data[subcategories_gov_pos_neg].sum(axis=1)\n",
    "\n",
    "data['ESG total score'] = data[categories].sum(axis=1)\n",
    "\n",
    "subcat_counts_df = pd.DataFrame({'Category': list(subcat_counts.keys()), 'Counts': list(subcat_counts.values()), 'Main category': subcat_cat})\n",
    "subcat_scores_df = pd.DataFrame({'Category': list(subcat_scores.keys()), 'Scores Sum': list(subcat_scores.values()),'Main category': subcat_cat})\n",
    "\n",
    "subcat_counts_df = subcat_counts_df.sort_values(by='Main category')\n",
    "subcat_scores_df = subcat_scores_df.sort_values(by='Main category')\n",
    "\n",
    "avg_likes = data['numLikes'].mean()\n",
    "avg_comments = data['numComments'].mean()\n",
    "\n",
    "\n",
    "def extract_hashtags(text):\n",
    "    hashtag_list = []\n",
    "     \n",
    "    # splitting the text into words\n",
    "    for word in text.split():\n",
    "        if word[0] == '#':\n",
    "            hashtag_list.append(word[1:])\n",
    "    return hashtag_list"
   ]
  },
  {
   "cell_type": "code",
   "execution_count": 258,
   "metadata": {},
   "outputs": [
    {
     "name": "stdout",
     "output_type": "stream",
     "text": [
      "400.94117647058823 15.058823529411764\n"
     ]
    }
   ],
   "source": [
    "print(avg_likes, avg_comments)"
   ]
  },
  {
   "cell_type": "code",
   "execution_count": 259,
   "metadata": {},
   "outputs": [
    {
     "data": {
      "application/vnd.plotly.v1+json": {
       "config": {
        "plotlyServerURL": "https://plot.ly"
       },
       "data": [
        {
         "domain": {
          "x": [
           0,
           1
          ],
          "y": [
           0,
           1
          ]
         },
         "hovertemplate": "label=%{label}<br>value=%{value}<extra></extra>",
         "labels": [
          "Posts with positive sentiment",
          "Posts with negative sentiment"
         ],
         "legendgroup": "",
         "name": "",
         "showlegend": true,
         "type": "pie",
         "values": [
          17,
          0
         ]
        }
       ],
       "layout": {
        "autosize": true,
        "legend": {
         "tracegroupgap": 0
        },
        "margin": {
         "t": 60
        },
        "template": {
         "data": {
          "bar": [
           {
            "error_x": {
             "color": "#2a3f5f"
            },
            "error_y": {
             "color": "#2a3f5f"
            },
            "marker": {
             "line": {
              "color": "#E5ECF6",
              "width": 0.5
             },
             "pattern": {
              "fillmode": "overlay",
              "size": 10,
              "solidity": 0.2
             }
            },
            "type": "bar"
           }
          ],
          "barpolar": [
           {
            "marker": {
             "line": {
              "color": "#E5ECF6",
              "width": 0.5
             },
             "pattern": {
              "fillmode": "overlay",
              "size": 10,
              "solidity": 0.2
             }
            },
            "type": "barpolar"
           }
          ],
          "carpet": [
           {
            "aaxis": {
             "endlinecolor": "#2a3f5f",
             "gridcolor": "white",
             "linecolor": "white",
             "minorgridcolor": "white",
             "startlinecolor": "#2a3f5f"
            },
            "baxis": {
             "endlinecolor": "#2a3f5f",
             "gridcolor": "white",
             "linecolor": "white",
             "minorgridcolor": "white",
             "startlinecolor": "#2a3f5f"
            },
            "type": "carpet"
           }
          ],
          "choropleth": [
           {
            "colorbar": {
             "outlinewidth": 0,
             "ticks": ""
            },
            "type": "choropleth"
           }
          ],
          "contour": [
           {
            "colorbar": {
             "outlinewidth": 0,
             "ticks": ""
            },
            "colorscale": [
             [
              0,
              "#0d0887"
             ],
             [
              0.1111111111111111,
              "#46039f"
             ],
             [
              0.2222222222222222,
              "#7201a8"
             ],
             [
              0.3333333333333333,
              "#9c179e"
             ],
             [
              0.4444444444444444,
              "#bd3786"
             ],
             [
              0.5555555555555556,
              "#d8576b"
             ],
             [
              0.6666666666666666,
              "#ed7953"
             ],
             [
              0.7777777777777778,
              "#fb9f3a"
             ],
             [
              0.8888888888888888,
              "#fdca26"
             ],
             [
              1,
              "#f0f921"
             ]
            ],
            "type": "contour"
           }
          ],
          "contourcarpet": [
           {
            "colorbar": {
             "outlinewidth": 0,
             "ticks": ""
            },
            "type": "contourcarpet"
           }
          ],
          "heatmap": [
           {
            "colorbar": {
             "outlinewidth": 0,
             "ticks": ""
            },
            "colorscale": [
             [
              0,
              "#0d0887"
             ],
             [
              0.1111111111111111,
              "#46039f"
             ],
             [
              0.2222222222222222,
              "#7201a8"
             ],
             [
              0.3333333333333333,
              "#9c179e"
             ],
             [
              0.4444444444444444,
              "#bd3786"
             ],
             [
              0.5555555555555556,
              "#d8576b"
             ],
             [
              0.6666666666666666,
              "#ed7953"
             ],
             [
              0.7777777777777778,
              "#fb9f3a"
             ],
             [
              0.8888888888888888,
              "#fdca26"
             ],
             [
              1,
              "#f0f921"
             ]
            ],
            "type": "heatmap"
           }
          ],
          "heatmapgl": [
           {
            "colorbar": {
             "outlinewidth": 0,
             "ticks": ""
            },
            "colorscale": [
             [
              0,
              "#0d0887"
             ],
             [
              0.1111111111111111,
              "#46039f"
             ],
             [
              0.2222222222222222,
              "#7201a8"
             ],
             [
              0.3333333333333333,
              "#9c179e"
             ],
             [
              0.4444444444444444,
              "#bd3786"
             ],
             [
              0.5555555555555556,
              "#d8576b"
             ],
             [
              0.6666666666666666,
              "#ed7953"
             ],
             [
              0.7777777777777778,
              "#fb9f3a"
             ],
             [
              0.8888888888888888,
              "#fdca26"
             ],
             [
              1,
              "#f0f921"
             ]
            ],
            "type": "heatmapgl"
           }
          ],
          "histogram": [
           {
            "marker": {
             "pattern": {
              "fillmode": "overlay",
              "size": 10,
              "solidity": 0.2
             }
            },
            "type": "histogram"
           }
          ],
          "histogram2d": [
           {
            "colorbar": {
             "outlinewidth": 0,
             "ticks": ""
            },
            "colorscale": [
             [
              0,
              "#0d0887"
             ],
             [
              0.1111111111111111,
              "#46039f"
             ],
             [
              0.2222222222222222,
              "#7201a8"
             ],
             [
              0.3333333333333333,
              "#9c179e"
             ],
             [
              0.4444444444444444,
              "#bd3786"
             ],
             [
              0.5555555555555556,
              "#d8576b"
             ],
             [
              0.6666666666666666,
              "#ed7953"
             ],
             [
              0.7777777777777778,
              "#fb9f3a"
             ],
             [
              0.8888888888888888,
              "#fdca26"
             ],
             [
              1,
              "#f0f921"
             ]
            ],
            "type": "histogram2d"
           }
          ],
          "histogram2dcontour": [
           {
            "colorbar": {
             "outlinewidth": 0,
             "ticks": ""
            },
            "colorscale": [
             [
              0,
              "#0d0887"
             ],
             [
              0.1111111111111111,
              "#46039f"
             ],
             [
              0.2222222222222222,
              "#7201a8"
             ],
             [
              0.3333333333333333,
              "#9c179e"
             ],
             [
              0.4444444444444444,
              "#bd3786"
             ],
             [
              0.5555555555555556,
              "#d8576b"
             ],
             [
              0.6666666666666666,
              "#ed7953"
             ],
             [
              0.7777777777777778,
              "#fb9f3a"
             ],
             [
              0.8888888888888888,
              "#fdca26"
             ],
             [
              1,
              "#f0f921"
             ]
            ],
            "type": "histogram2dcontour"
           }
          ],
          "mesh3d": [
           {
            "colorbar": {
             "outlinewidth": 0,
             "ticks": ""
            },
            "type": "mesh3d"
           }
          ],
          "parcoords": [
           {
            "line": {
             "colorbar": {
              "outlinewidth": 0,
              "ticks": ""
             }
            },
            "type": "parcoords"
           }
          ],
          "pie": [
           {
            "automargin": true,
            "type": "pie"
           }
          ],
          "scatter": [
           {
            "fillpattern": {
             "fillmode": "overlay",
             "size": 10,
             "solidity": 0.2
            },
            "type": "scatter"
           }
          ],
          "scatter3d": [
           {
            "line": {
             "colorbar": {
              "outlinewidth": 0,
              "ticks": ""
             }
            },
            "marker": {
             "colorbar": {
              "outlinewidth": 0,
              "ticks": ""
             }
            },
            "type": "scatter3d"
           }
          ],
          "scattercarpet": [
           {
            "marker": {
             "colorbar": {
              "outlinewidth": 0,
              "ticks": ""
             }
            },
            "type": "scattercarpet"
           }
          ],
          "scattergeo": [
           {
            "marker": {
             "colorbar": {
              "outlinewidth": 0,
              "ticks": ""
             }
            },
            "type": "scattergeo"
           }
          ],
          "scattergl": [
           {
            "marker": {
             "colorbar": {
              "outlinewidth": 0,
              "ticks": ""
             }
            },
            "type": "scattergl"
           }
          ],
          "scattermapbox": [
           {
            "marker": {
             "colorbar": {
              "outlinewidth": 0,
              "ticks": ""
             }
            },
            "type": "scattermapbox"
           }
          ],
          "scatterpolar": [
           {
            "marker": {
             "colorbar": {
              "outlinewidth": 0,
              "ticks": ""
             }
            },
            "type": "scatterpolar"
           }
          ],
          "scatterpolargl": [
           {
            "marker": {
             "colorbar": {
              "outlinewidth": 0,
              "ticks": ""
             }
            },
            "type": "scatterpolargl"
           }
          ],
          "scatterternary": [
           {
            "marker": {
             "colorbar": {
              "outlinewidth": 0,
              "ticks": ""
             }
            },
            "type": "scatterternary"
           }
          ],
          "surface": [
           {
            "colorbar": {
             "outlinewidth": 0,
             "ticks": ""
            },
            "colorscale": [
             [
              0,
              "#0d0887"
             ],
             [
              0.1111111111111111,
              "#46039f"
             ],
             [
              0.2222222222222222,
              "#7201a8"
             ],
             [
              0.3333333333333333,
              "#9c179e"
             ],
             [
              0.4444444444444444,
              "#bd3786"
             ],
             [
              0.5555555555555556,
              "#d8576b"
             ],
             [
              0.6666666666666666,
              "#ed7953"
             ],
             [
              0.7777777777777778,
              "#fb9f3a"
             ],
             [
              0.8888888888888888,
              "#fdca26"
             ],
             [
              1,
              "#f0f921"
             ]
            ],
            "type": "surface"
           }
          ],
          "table": [
           {
            "cells": {
             "fill": {
              "color": "#EBF0F8"
             },
             "line": {
              "color": "white"
             }
            },
            "header": {
             "fill": {
              "color": "#C8D4E3"
             },
             "line": {
              "color": "white"
             }
            },
            "type": "table"
           }
          ]
         },
         "layout": {
          "annotationdefaults": {
           "arrowcolor": "#2a3f5f",
           "arrowhead": 0,
           "arrowwidth": 1
          },
          "autotypenumbers": "strict",
          "coloraxis": {
           "colorbar": {
            "outlinewidth": 0,
            "ticks": ""
           }
          },
          "colorscale": {
           "diverging": [
            [
             0,
             "#8e0152"
            ],
            [
             0.1,
             "#c51b7d"
            ],
            [
             0.2,
             "#de77ae"
            ],
            [
             0.3,
             "#f1b6da"
            ],
            [
             0.4,
             "#fde0ef"
            ],
            [
             0.5,
             "#f7f7f7"
            ],
            [
             0.6,
             "#e6f5d0"
            ],
            [
             0.7,
             "#b8e186"
            ],
            [
             0.8,
             "#7fbc41"
            ],
            [
             0.9,
             "#4d9221"
            ],
            [
             1,
             "#276419"
            ]
           ],
           "sequential": [
            [
             0,
             "#0d0887"
            ],
            [
             0.1111111111111111,
             "#46039f"
            ],
            [
             0.2222222222222222,
             "#7201a8"
            ],
            [
             0.3333333333333333,
             "#9c179e"
            ],
            [
             0.4444444444444444,
             "#bd3786"
            ],
            [
             0.5555555555555556,
             "#d8576b"
            ],
            [
             0.6666666666666666,
             "#ed7953"
            ],
            [
             0.7777777777777778,
             "#fb9f3a"
            ],
            [
             0.8888888888888888,
             "#fdca26"
            ],
            [
             1,
             "#f0f921"
            ]
           ],
           "sequentialminus": [
            [
             0,
             "#0d0887"
            ],
            [
             0.1111111111111111,
             "#46039f"
            ],
            [
             0.2222222222222222,
             "#7201a8"
            ],
            [
             0.3333333333333333,
             "#9c179e"
            ],
            [
             0.4444444444444444,
             "#bd3786"
            ],
            [
             0.5555555555555556,
             "#d8576b"
            ],
            [
             0.6666666666666666,
             "#ed7953"
            ],
            [
             0.7777777777777778,
             "#fb9f3a"
            ],
            [
             0.8888888888888888,
             "#fdca26"
            ],
            [
             1,
             "#f0f921"
            ]
           ]
          },
          "colorway": [
           "#636efa",
           "#EF553B",
           "#00cc96",
           "#ab63fa",
           "#FFA15A",
           "#19d3f3",
           "#FF6692",
           "#B6E880",
           "#FF97FF",
           "#FECB52"
          ],
          "font": {
           "color": "#2a3f5f"
          },
          "geo": {
           "bgcolor": "white",
           "lakecolor": "white",
           "landcolor": "#E5ECF6",
           "showlakes": true,
           "showland": true,
           "subunitcolor": "white"
          },
          "hoverlabel": {
           "align": "left"
          },
          "hovermode": "closest",
          "mapbox": {
           "style": "light"
          },
          "paper_bgcolor": "white",
          "plot_bgcolor": "#E5ECF6",
          "polar": {
           "angularaxis": {
            "gridcolor": "white",
            "linecolor": "white",
            "ticks": ""
           },
           "bgcolor": "#E5ECF6",
           "radialaxis": {
            "gridcolor": "white",
            "linecolor": "white",
            "ticks": ""
           }
          },
          "scene": {
           "xaxis": {
            "backgroundcolor": "#E5ECF6",
            "gridcolor": "white",
            "gridwidth": 2,
            "linecolor": "white",
            "showbackground": true,
            "ticks": "",
            "zerolinecolor": "white"
           },
           "yaxis": {
            "backgroundcolor": "#E5ECF6",
            "gridcolor": "white",
            "gridwidth": 2,
            "linecolor": "white",
            "showbackground": true,
            "ticks": "",
            "zerolinecolor": "white"
           },
           "zaxis": {
            "backgroundcolor": "#E5ECF6",
            "gridcolor": "white",
            "gridwidth": 2,
            "linecolor": "white",
            "showbackground": true,
            "ticks": "",
            "zerolinecolor": "white"
           }
          },
          "shapedefaults": {
           "line": {
            "color": "#2a3f5f"
           }
          },
          "ternary": {
           "aaxis": {
            "gridcolor": "white",
            "linecolor": "white",
            "ticks": ""
           },
           "baxis": {
            "gridcolor": "white",
            "linecolor": "white",
            "ticks": ""
           },
           "bgcolor": "#E5ECF6",
           "caxis": {
            "gridcolor": "white",
            "linecolor": "white",
            "ticks": ""
           }
          },
          "title": {
           "x": 0.05
          },
          "xaxis": {
           "automargin": true,
           "gridcolor": "white",
           "linecolor": "white",
           "ticks": "",
           "title": {
            "standoff": 15
           },
           "zerolinecolor": "white",
           "zerolinewidth": 2
          },
          "yaxis": {
           "automargin": true,
           "gridcolor": "white",
           "linecolor": "white",
           "ticks": "",
           "title": {
            "standoff": 15
           },
           "zerolinecolor": "white",
           "zerolinewidth": 2
          }
         }
        }
       }
      },
      "image/png": "[encoded data removed]",
      "text/html": [
       "<div>                            <div id=\"a0ad93e3-9979-4e90-af94-b484aeaa7382\" class=\"plotly-graph-div\" style=\"height:525px; width:100%;\"></div>            <script type=\"text/javascript\">                require([\"plotly\"], function(Plotly) {                    window.PLOTLYENV=window.PLOTLYENV || {};                                    if (document.getElementById(\"a0ad93e3-9979-4e90-af94-b484aeaa7382\")) {                    Plotly.newPlot(                        \"a0ad93e3-9979-4e90-af94-b484aeaa7382\",                        [{\"domain\":{\"x\":[0.0,1.0],\"y\":[0.0,1.0]},\"hovertemplate\":\"label=%{label}<br>value=%{value}<extra></extra>\",\"labels\":[\"Posts with positive sentiment\",\"Posts with negative sentiment\"],\"legendgroup\":\"\",\"name\":\"\",\"showlegend\":true,\"values\":[17,0],\"type\":\"pie\"}],                        {\"template\":{\"data\":{\"histogram2dcontour\":[{\"type\":\"histogram2dcontour\",\"colorbar\":{\"outlinewidth\":0,\"ticks\":\"\"},\"colorscale\":[[0.0,\"#0d0887\"],[0.1111111111111111,\"#46039f\"],[0.2222222222222222,\"#7201a8\"],[0.3333333333333333,\"#9c179e\"],[0.4444444444444444,\"#bd3786\"],[0.5555555555555556,\"#d8576b\"],[0.6666666666666666,\"#ed7953\"],[0.7777777777777778,\"#fb9f3a\"],[0.8888888888888888,\"#fdca26\"],[1.0,\"#f0f921\"]]}],\"choropleth\":[{\"type\":\"choropleth\",\"colorbar\":{\"outlinewidth\":0,\"ticks\":\"\"}}],\"histogram2d\":[{\"type\":\"histogram2d\",\"colorbar\":{\"outlinewidth\":0,\"ticks\":\"\"},\"colorscale\":[[0.0,\"#0d0887\"],[0.1111111111111111,\"#46039f\"],[0.2222222222222222,\"#7201a8\"],[0.3333333333333333,\"#9c179e\"],[0.4444444444444444,\"#bd3786\"],[0.5555555555555556,\"#d8576b\"],[0.6666666666666666,\"#ed7953\"],[0.7777777777777778,\"#fb9f3a\"],[0.8888888888888888,\"#fdca26\"],[1.0,\"#f0f921\"]]}],\"heatmap\":[{\"type\":\"heatmap\",\"colorbar\":{\"outlinewidth\":0,\"ticks\":\"\"},\"colorscale\":[[0.0,\"#0d0887\"],[0.1111111111111111,\"#46039f\"],[0.2222222222222222,\"#7201a8\"],[0.3333333333333333,\"#9c179e\"],[0.4444444444444444,\"#bd3786\"],[0.5555555555555556,\"#d8576b\"],[0.6666666666666666,\"#ed7953\"],[0.7777777777777778,\"#fb9f3a\"],[0.8888888888888888,\"#fdca26\"],[1.0,\"#f0f921\"]]}],\"heatmapgl\":[{\"type\":\"heatmapgl\",\"colorbar\":{\"outlinewidth\":0,\"ticks\":\"\"},\"colorscale\":[[0.0,\"#0d0887\"],[0.1111111111111111,\"#46039f\"],[0.2222222222222222,\"#7201a8\"],[0.3333333333333333,\"#9c179e\"],[0.4444444444444444,\"#bd3786\"],[0.5555555555555556,\"#d8576b\"],[0.6666666666666666,\"#ed7953\"],[0.7777777777777778,\"#fb9f3a\"],[0.8888888888888888,\"#fdca26\"],[1.0,\"#f0f921\"]]}],\"contourcarpet\":[{\"type\":\"contourcarpet\",\"colorbar\":{\"outlinewidth\":0,\"ticks\":\"\"}}],\"contour\":[{\"type\":\"contour\",\"colorbar\":{\"outlinewidth\":0,\"ticks\":\"\"},\"colorscale\":[[0.0,\"#0d0887\"],[0.1111111111111111,\"#46039f\"],[0.2222222222222222,\"#7201a8\"],[0.3333333333333333,\"#9c179e\"],[0.4444444444444444,\"#bd3786\"],[0.5555555555555556,\"#d8576b\"],[0.6666666666666666,\"#ed7953\"],[0.7777777777777778,\"#fb9f3a\"],[0.8888888888888888,\"#fdca26\"],[1.0,\"#f0f921\"]]}],\"surface\":[{\"type\":\"surface\",\"colorbar\":{\"outlinewidth\":0,\"ticks\":\"\"},\"colorscale\":[[0.0,\"#0d0887\"],[0.1111111111111111,\"#46039f\"],[0.2222222222222222,\"#7201a8\"],[0.3333333333333333,\"#9c179e\"],[0.4444444444444444,\"#bd3786\"],[0.5555555555555556,\"#d8576b\"],[0.6666666666666666,\"#ed7953\"],[0.7777777777777778,\"#fb9f3a\"],[0.8888888888888888,\"#fdca26\"],[1.0,\"#f0f921\"]]}],\"mesh3d\":[{\"type\":\"mesh3d\",\"colorbar\":{\"outlinewidth\":0,\"ticks\":\"\"}}],\"scatter\":[{\"fillpattern\":{\"fillmode\":\"overlay\",\"size\":10,\"solidity\":0.2},\"type\":\"scatter\"}],\"parcoords\":[{\"type\":\"parcoords\",\"line\":{\"colorbar\":{\"outlinewidth\":0,\"ticks\":\"\"}}}],\"scatterpolargl\":[{\"type\":\"scatterpolargl\",\"marker\":{\"colorbar\":{\"outlinewidth\":0,\"ticks\":\"\"}}}],\"bar\":[{\"error_x\":{\"color\":\"#2a3f5f\"},\"error_y\":{\"color\":\"#2a3f5f\"},\"marker\":{\"line\":{\"color\":\"#E5ECF6\",\"width\":0.5},\"pattern\":{\"fillmode\":\"overlay\",\"size\":10,\"solidity\":0.2}},\"type\":\"bar\"}],\"scattergeo\":[{\"type\":\"scattergeo\",\"marker\":{\"colorbar\":{\"outlinewidth\":0,\"ticks\":\"\"}}}],\"scatterpolar\":[{\"type\":\"scatterpolar\",\"marker\":{\"colorbar\":{\"outlinewidth\":0,\"ticks\":\"\"}}}],\"histogram\":[{\"marker\":{\"pattern\":{\"fillmode\":\"overlay\",\"size\":10,\"solidity\":0.2}},\"type\":\"histogram\"}],\"scattergl\":[{\"type\":\"scattergl\",\"marker\":{\"colorbar\":{\"outlinewidth\":0,\"ticks\":\"\"}}}],\"scatter3d\":[{\"type\":\"scatter3d\",\"line\":{\"colorbar\":{\"outlinewidth\":0,\"ticks\":\"\"}},\"marker\":{\"colorbar\":{\"outlinewidth\":0,\"ticks\":\"\"}}}],\"scattermapbox\":[{\"type\":\"scattermapbox\",\"marker\":{\"colorbar\":{\"outlinewidth\":0,\"ticks\":\"\"}}}],\"scatterternary\":[{\"type\":\"scatterternary\",\"marker\":{\"colorbar\":{\"outlinewidth\":0,\"ticks\":\"\"}}}],\"scattercarpet\":[{\"type\":\"scattercarpet\",\"marker\":{\"colorbar\":{\"outlinewidth\":0,\"ticks\":\"\"}}}],\"carpet\":[{\"aaxis\":{\"endlinecolor\":\"#2a3f5f\",\"gridcolor\":\"white\",\"linecolor\":\"white\",\"minorgridcolor\":\"white\",\"startlinecolor\":\"#2a3f5f\"},\"baxis\":{\"endlinecolor\":\"#2a3f5f\",\"gridcolor\":\"white\",\"linecolor\":\"white\",\"minorgridcolor\":\"white\",\"startlinecolor\":\"#2a3f5f\"},\"type\":\"carpet\"}],\"table\":[{\"cells\":{\"fill\":{\"color\":\"#EBF0F8\"},\"line\":{\"color\":\"white\"}},\"header\":{\"fill\":{\"color\":\"#C8D4E3\"},\"line\":{\"color\":\"white\"}},\"type\":\"table\"}],\"barpolar\":[{\"marker\":{\"line\":{\"color\":\"#E5ECF6\",\"width\":0.5},\"pattern\":{\"fillmode\":\"overlay\",\"size\":10,\"solidity\":0.2}},\"type\":\"barpolar\"}],\"pie\":[{\"automargin\":true,\"type\":\"pie\"}]},\"layout\":{\"autotypenumbers\":\"strict\",\"colorway\":[\"#636efa\",\"#EF553B\",\"#00cc96\",\"#ab63fa\",\"#FFA15A\",\"#19d3f3\",\"#FF6692\",\"#B6E880\",\"#FF97FF\",\"#FECB52\"],\"font\":{\"color\":\"#2a3f5f\"},\"hovermode\":\"closest\",\"hoverlabel\":{\"align\":\"left\"},\"paper_bgcolor\":\"white\",\"plot_bgcolor\":\"#E5ECF6\",\"polar\":{\"bgcolor\":\"#E5ECF6\",\"angularaxis\":{\"gridcolor\":\"white\",\"linecolor\":\"white\",\"ticks\":\"\"},\"radialaxis\":{\"gridcolor\":\"white\",\"linecolor\":\"white\",\"ticks\":\"\"}},\"ternary\":{\"bgcolor\":\"#E5ECF6\",\"aaxis\":{\"gridcolor\":\"white\",\"linecolor\":\"white\",\"ticks\":\"\"},\"baxis\":{\"gridcolor\":\"white\",\"linecolor\":\"white\",\"ticks\":\"\"},\"caxis\":{\"gridcolor\":\"white\",\"linecolor\":\"white\",\"ticks\":\"\"}},\"coloraxis\":{\"colorbar\":{\"outlinewidth\":0,\"ticks\":\"\"}},\"colorscale\":{\"sequential\":[[0.0,\"#0d0887\"],[0.1111111111111111,\"#46039f\"],[0.2222222222222222,\"#7201a8\"],[0.3333333333333333,\"#9c179e\"],[0.4444444444444444,\"#bd3786\"],[0.5555555555555556,\"#d8576b\"],[0.6666666666666666,\"#ed7953\"],[0.7777777777777778,\"#fb9f3a\"],[0.8888888888888888,\"#fdca26\"],[1.0,\"#f0f921\"]],\"sequentialminus\":[[0.0,\"#0d0887\"],[0.1111111111111111,\"#46039f\"],[0.2222222222222222,\"#7201a8\"],[0.3333333333333333,\"#9c179e\"],[0.4444444444444444,\"#bd3786\"],[0.5555555555555556,\"#d8576b\"],[0.6666666666666666,\"#ed7953\"],[0.7777777777777778,\"#fb9f3a\"],[0.8888888888888888,\"#fdca26\"],[1.0,\"#f0f921\"]],\"diverging\":[[0,\"#8e0152\"],[0.1,\"#c51b7d\"],[0.2,\"#de77ae\"],[0.3,\"#f1b6da\"],[0.4,\"#fde0ef\"],[0.5,\"#f7f7f7\"],[0.6,\"#e6f5d0\"],[0.7,\"#b8e186\"],[0.8,\"#7fbc41\"],[0.9,\"#4d9221\"],[1,\"#276419\"]]},\"xaxis\":{\"gridcolor\":\"white\",\"linecolor\":\"white\",\"ticks\":\"\",\"title\":{\"standoff\":15},\"zerolinecolor\":\"white\",\"automargin\":true,\"zerolinewidth\":2},\"yaxis\":{\"gridcolor\":\"white\",\"linecolor\":\"white\",\"ticks\":\"\",\"title\":{\"standoff\":15},\"zerolinecolor\":\"white\",\"automargin\":true,\"zerolinewidth\":2},\"scene\":{\"xaxis\":{\"backgroundcolor\":\"#E5ECF6\",\"gridcolor\":\"white\",\"linecolor\":\"white\",\"showbackground\":true,\"ticks\":\"\",\"zerolinecolor\":\"white\",\"gridwidth\":2},\"yaxis\":{\"backgroundcolor\":\"#E5ECF6\",\"gridcolor\":\"white\",\"linecolor\":\"white\",\"showbackground\":true,\"ticks\":\"\",\"zerolinecolor\":\"white\",\"gridwidth\":2},\"zaxis\":{\"backgroundcolor\":\"#E5ECF6\",\"gridcolor\":\"white\",\"linecolor\":\"white\",\"showbackground\":true,\"ticks\":\"\",\"zerolinecolor\":\"white\",\"gridwidth\":2}},\"shapedefaults\":{\"line\":{\"color\":\"#2a3f5f\"}},\"annotationdefaults\":{\"arrowcolor\":\"#2a3f5f\",\"arrowhead\":0,\"arrowwidth\":1},\"geo\":{\"bgcolor\":\"white\",\"landcolor\":\"#E5ECF6\",\"subunitcolor\":\"white\",\"showland\":true,\"showlakes\":true,\"lakecolor\":\"white\"},\"title\":{\"x\":0.05},\"mapbox\":{\"style\":\"light\"}}},\"legend\":{\"tracegroupgap\":0},\"margin\":{\"t\":60}},                        {\"responsive\": true}                    ).then(function(){\n",
       "                            \n",
       "var gd = document.getElementById('a0ad93e3-9979-4e90-af94-b484aeaa7382');\n",
       "var x = new MutationObserver(function (mutations, observer) {{\n",
       "        var display = window.getComputedStyle(gd).display;\n",
       "        if (!display || display === 'none') {{\n",
       "            console.log([gd, 'removed!']);\n",
       "            Plotly.purge(gd);\n",
       "            observer.disconnect();\n",
       "        }}\n",
       "}});\n",
       "\n",
       "// Listen for the removal of the full notebook cells\n",
       "var notebookContainer = gd.closest('#notebook-container');\n",
       "if (notebookContainer) {{\n",
       "    x.observe(notebookContainer, {childList: true});\n",
       "}}\n",
       "\n",
       "// Listen for the clearing of the current output cell\n",
       "var outputEl = gd.closest('.output');\n",
       "if (outputEl) {{\n",
       "    x.observe(outputEl, {childList: true});\n",
       "}}\n",
       "\n",
       "                        })                };                });            </script>        </div>"
      ]
     },
     "metadata": {},
     "output_type": "display_data"
    }
   ],
   "source": [
    "labels = ['Posts with positive sentiment', 'Posts with negative sentiment']\n",
    "sizes = [num_esg_pos, num_esg_neg]\n",
    "explode = (0, 0) \n",
    "\n",
    "fig = px.pie(values=sizes, names=labels)\n",
    "fig.show()"
   ]
  },
  {
   "cell_type": "code",
   "execution_count": 260,
   "metadata": {},
   "outputs": [
    {
     "data": {
      "text/plain": [
       "<AxesSubplot:xlabel='Category', ylabel='Counts'>"
      ]
     },
     "execution_count": 260,
     "metadata": {},
     "output_type": "execute_result"
    },
    {
     "data": {
      "image/png": "[encoded data removed]",
      "text/plain": [
       "<Figure size 640x480 with 1 Axes>"
      ]
     },
     "metadata": {},
     "output_type": "display_data"
    }
   ],
   "source": [
    "sns.barplot(data=cat_counts_df, x='Category', y='Counts')"
   ]
  },
  {
   "cell_type": "code",
   "execution_count": 261,
   "metadata": {},
   "outputs": [
    {
     "data": {
      "text/plain": [
       "<AxesSubplot:xlabel='Category', ylabel='Scores Sum'>"
      ]
     },
     "execution_count": 261,
     "metadata": {},
     "output_type": "execute_result"
    },
    {
     "data": {
      "image/png": "[encoded data removed]",
      "text/plain": [
       "<Figure size 640x480 with 1 Axes>"
      ]
     },
     "metadata": {},
     "output_type": "display_data"
    }
   ],
   "source": [
    "sns.barplot(data=cat_scores_df, x='Category', y='Scores Sum')"
   ]
  },
  {
   "cell_type": "code",
   "execution_count": 262,
   "metadata": {},
   "outputs": [
    {
     "data": {
      "text/plain": [
       "<AxesSubplot:xlabel='Counts', ylabel='Category'>"
      ]
     },
     "execution_count": 262,
     "metadata": {},
     "output_type": "execute_result"
    },
    {
     "data": {
      "image/png": "[encoded data removed]",
      "text/plain": [
       "<Figure size 640x480 with 1 Axes>"
      ]
     },
     "metadata": {},
     "output_type": "display_data"
    }
   ],
   "source": [
    "sns.barplot(data=subcat_counts_df, x='Counts', y='Category', orient='h', hue = 'Main category')"
   ]
  },
  {
   "cell_type": "code",
   "execution_count": 284,
   "metadata": {},
   "outputs": [
    {
     "data": {
      "text/plain": [
       "<AxesSubplot:xlabel='Scores Sum', ylabel='Category'>"
      ]
     },
     "execution_count": 284,
     "metadata": {},
     "output_type": "execute_result"
    },
    {
     "data": {
      "image/png": "[encoded data removed]",
      "text/plain": [
       "<Figure size 640x480 with 1 Axes>"
      ]
     },
     "metadata": {},
     "output_type": "display_data"
    }
   ],
   "source": [
    "sns.barplot(data=subcat_scores_df, x='Scores Sum', y='Category', orient='h', hue = 'Main category')"
   ]
  },
  {
   "cell_type": "code",
   "execution_count": null,
   "metadata": {},
   "outputs": [],
   "source": [
    "subcat_scores_df = subcat_scores_df.reset_index()"
   ]
  },
  {
   "cell_type": "code",
   "execution_count": 357,
   "metadata": {},
   "outputs": [
    {
     "data": {
      "text/plain": [
       "<AxesSubplot:xlabel='Scores Sum', ylabel='Category'>"
      ]
     },
     "execution_count": 357,
     "metadata": {},
     "output_type": "execute_result"
    },
    {
     "data": {
      "image/png": "[encoded data removed]",
      "text/plain": [
       "<Figure size 300x200 with 1 Axes>"
      ]
     },
     "metadata": {},
     "output_type": "display_data"
    }
   ],
   "source": [
    "# choose two main categories\n",
    "subcategory_1 = 'Climate Impact'\n",
    "subcategory_2 = 'Product Stewardship'\n",
    "subcategory_1_score = dict()\n",
    "subcategory_2_score = dict()\n",
    "\n",
    "# convert one of them to negative\n",
    "subcategory_1_score[subcategory_1] = subcat_scores_df[subcat_scores_df['Category']==subcategory_1]['Scores Sum'].values[0]*-1\n",
    "subcategory_2_score[subcategory_2] = subcat_scores_df[subcat_scores_df['Category']==subcategory_2]['Scores Sum'].values[0]\n",
    "\n",
    "subcategory_1_score.update(subcategory_2_score)\n",
    "# make df\n",
    "df_subcategories_1_2 = pd.DataFrame({'Category': list(subcategory_1_score.keys()), 'Scores Sum': list(subcategory_1_score.values())})\n",
    "\n",
    "# plot\n",
    "sns.set_theme(style=\"whitegrid\")\n",
    "fig, ax = pyplot.subplots(figsize=(3,2))\n",
    "sns.barplot(data=df_subcategories_1_2, x='Scores Sum', y='Category', orient='h')\n",
    "\n",
    "\n",
    "#make pretty later"
   ]
  },
  {
   "cell_type": "code",
   "execution_count": 264,
   "metadata": {},
   "outputs": [
    {
     "data": {
      "text/plain": [
       "[Text(0.5, 1.0, 'Sum of Environmental subcategories per post of company')]"
      ]
     },
     "execution_count": 264,
     "metadata": {},
     "output_type": "execute_result"
    },
    {
     "data": {
      "image/png": "[encoded data removed]",
      "text/plain": [
       "<Figure size 800x200 with 1 Axes>"
      ]
     },
     "metadata": {},
     "output_type": "display_data"
    }
   ],
   "source": [
    "fig, ax = pyplot.subplots(figsize=(8,2))\n",
    "sns.boxplot(data=data, x='ESG total score').set(title='Sum of Environmental subcategories per post of company')"
   ]
  },
  {
   "cell_type": "code",
   "execution_count": 265,
   "metadata": {},
   "outputs": [
    {
     "data": {
      "text/plain": [
       "[Text(0.5, 1.0, 'Sum of ESG main category per post of company')]"
      ]
     },
     "execution_count": 265,
     "metadata": {},
     "output_type": "execute_result"
    },
    {
     "data": {
      "image/png": "[encoded data removed]",
      "text/plain": [
       "<Figure size 800x200 with 1 Axes>"
      ]
     },
     "metadata": {},
     "output_type": "display_data"
    }
   ],
   "source": [
    "fig, ax = pyplot.subplots(figsize=(8,2))\n",
    "sns.boxplot(data=data, x='Environmental subcategories').set(title='Sum of ESG main category per post of company')"
   ]
  },
  {
   "cell_type": "code",
   "execution_count": 266,
   "metadata": {},
   "outputs": [
    {
     "data": {
      "text/plain": [
       "[Text(0.5, 1.0, 'Sum of Environmental subcategories per post of company')]"
      ]
     },
     "execution_count": 266,
     "metadata": {},
     "output_type": "execute_result"
    },
    {
     "data": {
      "image/png": "[encoded data removed]",
      "text/plain": [
       "<Figure size 800x200 with 1 Axes>"
      ]
     },
     "metadata": {},
     "output_type": "display_data"
    }
   ],
   "source": [
    "fig, ax = pyplot.subplots(figsize=(8,2))\n",
    "sns.boxplot(data=data, x='Social subcategories').set(title='Sum of Environmental subcategories per post of company')"
   ]
  },
  {
   "cell_type": "code",
   "execution_count": 267,
   "metadata": {},
   "outputs": [
    {
     "data": {
      "text/plain": [
       "[Text(0.5, 1.0, 'Sum of Governance subcategories per post of company')]"
      ]
     },
     "execution_count": 267,
     "metadata": {},
     "output_type": "execute_result"
    },
    {
     "data": {
      "image/png": "[encoded data removed]",
      "text/plain": [
       "<Figure size 800x200 with 1 Axes>"
      ]
     },
     "metadata": {},
     "output_type": "display_data"
    }
   ],
   "source": [
    "fig, ax = pyplot.subplots(figsize=(8,2))\n",
    "sns.boxplot(data=data, x='Governance subcategories').set(title='Sum of Governance subcategories per post of company')"
   ]
  },
  {
   "cell_type": "markdown",
   "metadata": {},
   "source": [
    "# Top 5 Analysis"
   ]
  },
  {
   "cell_type": "code",
   "execution_count": 276,
   "metadata": {},
   "outputs": [
    {
     "data": {
      "text/plain": [
       "Index(['index', 'Unnamed: 0', 'urn', 'ts', 'company', 'numLikes',\n",
       "       'numComments', 'text', 'Environment', 'Positive', 'Climate Impact',\n",
       "       'Biodiversity and Environmental Footprint', 'Negative',\n",
       "       'Waste and Emissions Management ', 'Social', 'Human Capital ',\n",
       "       'Environmental Opportunities ', 'Waste and Emission Management',\n",
       "       'Diversity and Inclusion', 'Workplace and Product Safety',\n",
       "       'Environmental Crime', 'Governance', 'Legal Compliance',\n",
       "       'Business Ethics and Transparency', 'Product Stewardship',\n",
       "       'Environmental subcategories', 'Social subcategories',\n",
       "       'Governance subcategories', 'ESG total score'],\n",
       "      dtype='object')"
      ]
     },
     "execution_count": 276,
     "metadata": {},
     "output_type": "execute_result"
    }
   ],
   "source": [
    "#show column names\n",
    "data.columns"
   ]
  },
  {
   "cell_type": "code",
   "execution_count": 277,
   "metadata": {},
   "outputs": [
    {
     "name": "stdin",
     "output_type": "stream",
     "text": [
      "Top 5 categorized by:  ESG total score\n"
     ]
    }
   ],
   "source": [
    "sort_by = input(\"Top 5 categorized by: \")"
   ]
  },
  {
   "cell_type": "code",
   "execution_count": 278,
   "metadata": {},
   "outputs": [],
   "source": [
    "sorted_by = data.sort_values(sort_by,ascending=True).iloc[0:5,:]\n",
    "sorted_by = sorted_by.reset_index()"
   ]
  },
  {
   "cell_type": "code",
   "execution_count": 279,
   "metadata": {},
   "outputs": [
    {
     "name": "stdout",
     "output_type": "stream",
     "text": [
      "Text for post number 1 is: We’re proud to have won the Market Trailblazer category at The Climate Group RE100 Leadership Awards for our transition to renewable electricity. \n",
      "\n",
      "Renewable energy is a win–win for business and the planet. That’s why we’re partnering with others to accelerate the clean energy transition and make progress on our goal of 100% renewable energy for electricity and heat worldwide by 2030.    \n",
      "\n",
      "🔗 Read more about our work here: https://lnkd.in/g3sTg3tv\n",
      "\n",
      "#ClimateWeekNYC #RE100Awards \n",
      "\n",
      "\n",
      "It has 463 likes and 67 comments\n",
      "\n",
      "\n",
      "Text for post number 2 is: We’re nearing the end of our logo journey with one more part remaining! \n",
      "\n",
      "Each symbol in our U expresses a fundamental aspect of our company and what we are doing to make positive change in the world.\n",
      "\n",
      "Heart: A symbol of love, care and health. It represents our commitment to helping people take small everyday actions to improve their health and wellbeing.\n",
      "\n",
      "Transformation: A symbol of positive change or transformation. Our commitment to find new sustainable ways of doing business.\n",
      "\n",
      "Plant: A symbol of the natural world we inhabit. It represents our commitment to reducing environmental impact across our value chain – from how we source raw materials, to our manufacturing operations, to the way consumers cook, clean and wash with our products.\n",
      "\n",
      "Particles: A reference to science and our ongoing commitment to find new innovative ways to improve the lives of our consumers.\n",
      "\n",
      "Virtuous Cycle: A continuous, virtuous circle that represents our work to reduce the waste associated with the disposal of our products.\n",
      "\n",
      "Missed out on part 3? Check it out here: https://lnkd.in/gHC3Ca77\n",
      "\n",
      "#UnileverLogoJourney #UniquelyUnilever\n",
      "\n",
      "\n",
      "It has 963 likes and 15 comments\n",
      "\n",
      "\n",
      "Text for post number 3 is: Today we’re heading over to our office in Bonifacio Global City (BGC) in Taguig, Manila, Philippines. 🌏\n",
      "\n",
      "Our office in Manila has forged a culture of Malasakit, a “genuine concern for others”, and actively engages employees to Win with Purpose. Recognizing the passion behind purpose and the importance of supporting a balanced work life, there are interest groups to join including basketball, volleyball, running and cycling clubs.\n",
      "\n",
      "Located in the LEED-certified Bonifacio Corporate Center, our office in the Philippines upholds sustainability in its workspaces with its efficient structural design that harnesses daylight and allows for reduced water consumption.\n",
      "\n",
      "It has many interesting spaces named by employees, such as the Blue Box for karaoke and video gaming and the BRB room with sleeping pods for mini-breaks. Catering to the needs of working parents, the office also has a day care centre, an in-house pharmacy and Unilever shop.\n",
      "\n",
      "Scroll through to take a tour of our office ➡️\n",
      "\n",
      "Check out our opportunities to join us here: https://lnkd.in/d8nC8kP\n",
      "\n",
      "#UniquelyUnilever #UnileverTour\n",
      "\n",
      "\n",
      "It has 958 likes and 22 comments\n",
      "\n",
      "\n",
      "Text for post number 4 is: Today we’re heading over to our office in Bonifacio Global City (BGC) in Taguig, Manila, Philippines. 🌏\n",
      "\n",
      "Our office in Manila has forged a culture of Malasakit, a “genuine concern for others”, and actively engages employees to Win with Purpose. Recognizing the passion behind purpose and the importance of supporting a balanced work life, there are interest groups to join including basketball, volleyball, running and cycling clubs.\n",
      "\n",
      "Located in the LEED-certified Bonifacio Corporate Center, our office in the Philippines upholds sustainability in its workspaces with its efficient structural design that harnesses daylight and allows for reduced water consumption.\n",
      "\n",
      "It has many interesting spaces named by employees, such as the Blue Box for karaoke and video gaming and the BRB room with sleeping pods for mini-breaks. Catering to the needs of working parents, the office also has a day care centre, an in-house pharmacy and Unilever shop.\n",
      "\n",
      "Scroll through to take a tour of our office ➡️\n",
      "\n",
      "Check out our opportunities to join us here: https://lnkd.in/d8nC8kP\n",
      "\n",
      "#UniquelyUnilever #UnileverTour\n",
      "\n",
      "\n",
      "It has 1248 likes and 36 comments\n",
      "\n",
      "\n",
      "Text for post number 5 is: 💬 John Hubbard, HomeCare Product Development Manager Port Sunlight Research & Development \n",
      "📍 UK \n",
      "🧪 Innovator\n",
      " \n",
      "Through Our Clean Future initiative, he develops new opportunities to deliver sustainable products using fully biodegradable and renewable ingredients which helps to create a better planet. He sees his role as one that can make a difference in how brands impact the consumer and the planet. \n",
      " \n",
      "Some of the ways he’s activating his purpose through his role include: \n",
      "🔹 Creating innovative formulations for some of our HomeCare liquids \n",
      "🔹 Simplifying our product mixes using fewer chemicals and more sustainable ingredients \n",
      "🔹 Reducing complexity and removing non-essential ingredients which is at the heart of sustainability for the business and the planet \n",
      " \n",
      "Outside of his role, he is an advocate for STEM by engaging with his children’s school to teach them how science is involved in delivering the everyday products they use in their homes. \n",
      " \n",
      "That’s the power of John. Join us and discover the #PowerOfU: https://lnkd.in/gVVzV9i\n",
      " \n",
      "#UniquelyUnilever\n",
      "\n",
      "\n",
      "It has 80 likes and 2 comments\n",
      "\n",
      "\n",
      "All hashtags: [['ClimateWeekNYC', 'RE100Awards'], ['UnileverLogoJourney', 'UniquelyUnilever'], ['UniquelyUnilever', 'UnileverTour'], ['UniquelyUnilever', 'UnileverTour'], ['PowerOfU:', 'UniquelyUnilever']].\n"
     ]
    }
   ],
   "source": [
    "#show text, likes, etc\n",
    "hashtags = []\n",
    "for i in range(len(sorted_by)):\n",
    "    print('Text for post number {} is: {}'.format(i+1,sorted_by.loc[i,'text']))\n",
    "    print('\\n')\n",
    "    print('It has {} likes and {} comments'.format(sorted_by.loc[i,'numLikes'],sorted_by.loc[i,'numComments']))\n",
    "    print('\\n')\n",
    "    \n",
    "    hashtags.append(extract_hashtags(sorted_by.loc[i,'text']))\n",
    "print(\"All hashtags: {}.\".format(hashtags))"
   ]
  },
  {
   "cell_type": "markdown",
   "metadata": {},
   "source": [
    "**I have to fix this. These plots say nothing yet**"
   ]
  },
  {
   "cell_type": "code",
   "execution_count": 280,
   "metadata": {},
   "outputs": [
    {
     "data": {
      "text/plain": [
       "<matplotlib.lines.Line2D at 0x2c47d6513d0>"
      ]
     },
     "execution_count": 280,
     "metadata": {},
     "output_type": "execute_result"
    },
    {
     "data": {
      "image/png": "[encoded data removed]",
      "text/plain": [
       "<Figure size 640x480 with 1 Axes>"
      ]
     },
     "metadata": {},
     "output_type": "display_data"
    }
   ],
   "source": [
    "graph =sns.scatterplot(data=sorted_by,x='ESG total score', y = 'numLikes', hue='numComments')\n",
    "graph.axhline(avg_likes,color='r', linestyle='--')"
   ]
  },
  {
   "cell_type": "code",
   "execution_count": 281,
   "metadata": {},
   "outputs": [
    {
     "data": {
      "text/plain": [
       "<matplotlib.lines.Line2D at 0x2c47a9f77f0>"
      ]
     },
     "execution_count": 281,
     "metadata": {},
     "output_type": "execute_result"
    },
    {
     "data": {
      "image/png": "[encoded data removed]",
      "text/plain": [
       "<Figure size 640x480 with 1 Axes>"
      ]
     },
     "metadata": {},
     "output_type": "display_data"
    }
   ],
   "source": [
    "#maybe interesting for some companies with lots of posts\n",
    "\n",
    "graph =sns.scatterplot(data=data,x='ESG total score', y = 'numLikes', hue='numComments')\n",
    "graph.axhline(avg_likes,color='r', linestyle='--')"
   ]
  },
  {
   "cell_type": "markdown",
   "metadata": {},
   "source": [
    "# Overall comment analysis"
   ]
  },
  {
   "cell_type": "code",
   "execution_count": 11,
   "metadata": {},
   "outputs": [
    {
     "name": "stdout",
     "output_type": "stream",
     "text": [
      "7390\n"
     ]
    },
    {
     "data": {
      "text/html": [
       "<div>\n",
       "<style scoped>\n",
       "    .dataframe tbody tr th:only-of-type {\n",
       "        vertical-align: middle;\n",
       "    }\n",
       "\n",
       "    .dataframe tbody tr th {\n",
       "        vertical-align: top;\n",
       "    }\n",
       "\n",
       "    .dataframe thead th {\n",
       "        text-align: right;\n",
       "    }\n",
       "</style>\n",
       "<table border=\"1\" class=\"dataframe\">\n",
       "  <thead>\n",
       "    <tr style=\"text-align: right;\">\n",
       "      <th></th>\n",
       "      <th>Unnamed: 0</th>\n",
       "      <th>urn</th>\n",
       "      <th>ts</th>\n",
       "      <th>company</th>\n",
       "      <th>numLikes</th>\n",
       "      <th>numComments</th>\n",
       "      <th>text</th>\n",
       "    </tr>\n",
       "  </thead>\n",
       "  <tbody>\n",
       "    <tr>\n",
       "      <th>0</th>\n",
       "      <td>0</td>\n",
       "      <td>6989253218673311744</td>\n",
       "      <td>2022-10-21 15:57:01</td>\n",
       "      <td>walmart</td>\n",
       "      <td>99</td>\n",
       "      <td>1</td>\n",
       "      <td>#ICYMI: a new kind of Fulfillment Center is ch...</td>\n",
       "    </tr>\n",
       "    <tr>\n",
       "      <th>1</th>\n",
       "      <td>1</td>\n",
       "      <td>6988946964394520576</td>\n",
       "      <td>2022-10-20 19:40:04</td>\n",
       "      <td>walmart</td>\n",
       "      <td>66</td>\n",
       "      <td>3</td>\n",
       "      <td>Hellen's passion for patients and pharmacy beg...</td>\n",
       "    </tr>\n",
       "    <tr>\n",
       "      <th>2</th>\n",
       "      <td>2</td>\n",
       "      <td>6988865637318098944</td>\n",
       "      <td>2022-10-20 14:16:54</td>\n",
       "      <td>walmart</td>\n",
       "      <td>143</td>\n",
       "      <td>7</td>\n",
       "      <td>We believe that transparency and measurement a...</td>\n",
       "    </tr>\n",
       "    <tr>\n",
       "      <th>3</th>\n",
       "      <td>3</td>\n",
       "      <td>6988537514160517120</td>\n",
       "      <td>2022-10-19 16:33:04</td>\n",
       "      <td>walmart</td>\n",
       "      <td>141</td>\n",
       "      <td>5</td>\n",
       "      <td>We've teamed up with Ørsted and Schneider Elec...</td>\n",
       "    </tr>\n",
       "    <tr>\n",
       "      <th>4</th>\n",
       "      <td>4</td>\n",
       "      <td>6988484975855620096</td>\n",
       "      <td>2022-10-19 13:04:18</td>\n",
       "      <td>walmart</td>\n",
       "      <td>497</td>\n",
       "      <td>5</td>\n",
       "      <td>Back by customer demand: Black Friday Deals fo...</td>\n",
       "    </tr>\n",
       "  </tbody>\n",
       "</table>\n",
       "</div>"
      ],
      "text/plain": [
       "   Unnamed: 0                  urn                   ts  company  numLikes  \\\n",
       "0           0  6989253218673311744  2022-10-21 15:57:01  walmart        99   \n",
       "1           1  6988946964394520576  2022-10-20 19:40:04  walmart        66   \n",
       "2           2  6988865637318098944  2022-10-20 14:16:54  walmart       143   \n",
       "3           3  6988537514160517120  2022-10-19 16:33:04  walmart       141   \n",
       "4           4  6988484975855620096  2022-10-19 13:04:18  walmart       497   \n",
       "\n",
       "   numComments                                               text  \n",
       "0            1  #ICYMI: a new kind of Fulfillment Center is ch...  \n",
       "1            3  Hellen's passion for patients and pharmacy beg...  \n",
       "2            7  We believe that transparency and measurement a...  \n",
       "3            5  We've teamed up with Ørsted and Schneider Elec...  \n",
       "4            5  Back by customer demand: Black Friday Deals fo...  "
      ]
     },
     "execution_count": 11,
     "metadata": {},
     "output_type": "execute_result"
    }
   ],
   "source": [
    "# get data\n",
    "data_wcomm = pd.read_csv('../Data/posts2_clean.csv')\n",
    "print(len(data_wcomm))\n",
    "data_wcomm.head()"
   ]
  },
  {
   "cell_type": "code",
   "execution_count": null,
   "metadata": {},
   "outputs": [],
   "source": [
    "#run once we have the comments with sentiment\n",
    "\n",
    "final_df_sentiment = data_wcomm.loc[data_wcomm['company'] == option].copy()\n",
    "\n",
    "#merge with dataframe we have been using before \n",
    "final_df = data.merge(final_df_sentiment, how='outter', on='urn')\n",
    "final_df = final_df.drop_duplicates()\n",
    "\n",
    "#top 5 based on ESG total score and  highest total sentiment\n",
    "final_df_top_ESG = final_df.sort_values('ESG total score',ascending=False)[0:4]\n",
    "\n",
    "#incorporate these two in the dataframe\n",
    "sum_sentiment_per_post = final_df.groupby('urn')['Sentiment'].sum()\n",
    "mean_sentiment_per_post = final_df.groupby('urn')['Sentiment'].mean()\n",
    "\n",
    "#sentiment total score same to sum_sentiment_per_post\n",
    "final_df_top_sentiment = final_df.sort_values('sentiment total score',ascending=False)[0:4]"
   ]
  },
  {
   "cell_type": "markdown",
   "metadata": {},
   "source": [
    "## Scatterplots"
   ]
  },
  {
   "cell_type": "code",
   "execution_count": 275,
   "metadata": {},
   "outputs": [],
   "source": [
    "# print posts with post numbers\n"
   ]
  },
  {
   "cell_type": "code",
   "execution_count": null,
   "metadata": {},
   "outputs": [],
   "source": [
    "#this is the idea, need to look at the data first\n",
    "\n",
    "sns.scatterplot(data=final_df_top_ESG,x='ESG total score', y='Sentiment mean', hue='Post number')\n"
   ]
  },
  {
   "cell_type": "code",
   "execution_count": null,
   "metadata": {},
   "outputs": [],
   "source": [
    "#this is the idea, need to look at the data first\n",
    "\n",
    "sns.scatterplot(data=final_df_top_sentiment,x='ESG total score', y='Sentiment mean', hue='Post number')"
   ]
  },
  {
   "cell_type": "markdown",
   "metadata": {},
   "source": [
    "## Distribution"
   ]
  },
  {
   "cell_type": "code",
   "execution_count": null,
   "metadata": {},
   "outputs": [],
   "source": [
    "#distribution of comments for top 5 highest ESG total score\n",
    "\n",
    "fig, ax = pyplot.subplots(figsize=(8,2))\n",
    "sns.boxplot(data=final_df_top_ESG, x='Sentiment',hue='Post number').set(title='distribution of comments for top 5 posts with the highest ESG total score')"
   ]
  },
  {
   "cell_type": "code",
   "execution_count": null,
   "metadata": {},
   "outputs": [],
   "source": [
    "#distribution of comments for top 5 highest Environmental score \n"
   ]
  },
  {
   "cell_type": "code",
   "execution_count": null,
   "metadata": {},
   "outputs": [],
   "source": [
    "#distribution of comments for top 5 highest Social score\n"
   ]
  },
  {
   "cell_type": "code",
   "execution_count": null,
   "metadata": {},
   "outputs": [],
   "source": [
    "#distribution of comments for top 5 highest Governance score\n"
   ]
  },
  {
   "cell_type": "code",
   "execution_count": null,
   "metadata": {},
   "outputs": [],
   "source": [
    "#distribution of comments for all posts\n",
    "sns.boxplot(data=final_df, x='Sentiment',hue='Post number').set(title='distribution of comments for all posts by a company')"
   ]
  },
  {
   "cell_type": "markdown",
   "metadata": {},
   "source": [
    "## Highest sentiment"
   ]
  },
  {
   "cell_type": "code",
   "execution_count": null,
   "metadata": {},
   "outputs": [],
   "source": [
    "# print posts with post numbers (and ESG total score) + comments (sum)"
   ]
  },
  {
   "cell_type": "code",
   "execution_count": null,
   "metadata": {},
   "outputs": [],
   "source": [
    "#barplot of comments with highest sentiment negative \n",
    "sns.barplot(data=final_df_top_sentiment, x='Post number', y='sentiment_total_negative_score')"
   ]
  },
  {
   "cell_type": "code",
   "execution_count": null,
   "metadata": {},
   "outputs": [],
   "source": []
  },
  {
   "cell_type": "code",
   "execution_count": null,
   "metadata": {},
   "outputs": [],
   "source": [
    "#barplot of comments with highest sentiment positive\n",
    "sns.barplot(data=final_df_top_sentiment, x='Post number', y='sentiment_total_positive_score')"
   ]
  }
 ],
 "metadata": {
  "kernelspec": {
   "display_name": "Python 3 (ipykernel)",
   "language": "python",
   "name": "python3"
  },
  "language_info": {
   "codemirror_mode": {
    "name": "ipython",
    "version": 3
   },
   "file_extension": ".py",
   "mimetype": "text/x-python",
   "name": "python",
   "nbconvert_exporter": "python",
   "pygments_lexer": "ipython3",
   "version": "3.8.3"
  }
 },
 "nbformat": 4,
 "nbformat_minor": 4
}
